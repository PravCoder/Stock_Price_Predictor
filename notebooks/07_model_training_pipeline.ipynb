{
 "cells": [
  {
   "cell_type": "code",
   "execution_count": 1,
   "metadata": {},
   "outputs": [
    {
     "name": "stdout",
     "output_type": "stream",
     "text": [
      "/Users/pravachanpatra/Documents/PYTHON/AI_ML_DL/Stock_Price_Predictor/venv/bin/python\n"
     ]
    },
    {
     "data": {
      "text/plain": [
       "True"
      ]
     },
     "execution_count": 1,
     "metadata": {},
     "output_type": "execute_result"
    }
   ],
   "source": [
    "%reload_ext autoreload\n",
    "%autoreload 2\n",
    "import sys, os\n",
    "print(sys.executable)\n",
    "module_path = os.path.abspath(os.path.join('..'))\n",
    "\n",
    "# Add the directory to sys.path\n",
    "if module_path not in sys.path:\n",
    "    sys.path.append(module_path)\n",
    "# Verify kernal path\n",
    "import numpy as np\n",
    "import pandas as pd\n",
    "import requests\n",
    "from dotenv import load_dotenv\n",
    "from datetime import datetime\n",
    "load_dotenv()"
   ]
  },
  {
   "cell_type": "code",
   "execution_count": 2,
   "metadata": {},
   "outputs": [
    {
     "name": "stdout",
     "output_type": "stream",
     "text": [
      "Connected. Call `.close()` to terminate connection gracefully.\n",
      "\n",
      "Logged in to project, explore it here https://c.app.hopsworks.ai:443/p/835736\n",
      "2024-08-19 22:06:51,395 WARNING: DeprecationWarning: The 'warn' method is deprecated, use 'warning' instead\n",
      "\n",
      "2024-08-19 22:06:51,396 WARNING: using legacy validation callback\n",
      "Connected. Call `.close()` to terminate connection gracefully.\n"
     ]
    }
   ],
   "source": [
    "import src.config as config\n",
    "import hopsworks\n",
    "\n",
    "# connect to the project\n",
    "project = hopsworks.login(\n",
    "    project=config.HOPSWORKS_PROJECT_NAME,\n",
    "    api_key_value=config.HOPSWORKS_API_KEY\n",
    ")\n",
    "\n",
    "# connect to the feature store\n",
    "feature_store = project.get_feature_store()\n",
    "\n",
    "# connect to the feature group\n",
    "feature_group = feature_store.get_feature_group(\n",
    "    name=config.FEATURE_GROUP_NAME,\n",
    "    version=config.FEATURE_GROUP_VERSION,\n",
    ")\n"
   ]
  },
  {
   "cell_type": "code",
   "execution_count": 3,
   "metadata": {},
   "outputs": [
    {
     "name": "stdout",
     "output_type": "stream",
     "text": [
      "Feaeture view already existed. Skip creation\n"
     ]
    }
   ],
   "source": [
    "# Feature view is defined to read data from feature store, define how you want to fetch data from potentially many different feature groups and merge it to get the final dataset. \n",
    "try:\n",
    "    feature_store.create_feature_view(\n",
    "        name=config.FEATURE_VIEW_NAME,\n",
    "        version=config.FEATURE_VIEW_VERSION,\n",
    "        query=feature_group.select_all()\n",
    "    )\n",
    "except:\n",
    "    print(\"Feaeture view already existed. Skip creation\")\n",
    "\n",
    "feature_view = feature_store.get_feature_view(\n",
    "    name=config.FEATURE_VIEW_NAME,\n",
    "    version=config.FEATURE_VIEW_VERSION\n",
    ")"
   ]
  },
  {
   "cell_type": "code",
   "execution_count": 4,
   "metadata": {},
   "outputs": [
    {
     "name": "stdout",
     "output_type": "stream",
     "text": [
      "Finished: Reading data from Hopsworks, using Hopsworks Feature Query Service (0.65s) \n",
      "2024-08-19 22:07:01,979 WARNING: VersionWarning: Incremented version to `171`.\n",
      "\n"
     ]
    }
   ],
   "source": [
    "# feature-view-obj.func(): gets training data-frame from hopsworks\n",
    "ts_prices, _ = feature_view.training_data(\n",
    "    description=\"Time-series daily stock prices\"\n",
    ")"
   ]
  },
  {
   "cell_type": "code",
   "execution_count": 5,
   "metadata": {},
   "outputs": [
    {
     "data": {
      "text/html": [
       "<div>\n",
       "<style scoped>\n",
       "    .dataframe tbody tr th:only-of-type {\n",
       "        vertical-align: middle;\n",
       "    }\n",
       "\n",
       "    .dataframe tbody tr th {\n",
       "        vertical-align: top;\n",
       "    }\n",
       "\n",
       "    .dataframe thead th {\n",
       "        text-align: right;\n",
       "    }\n",
       "</style>\n",
       "<table border=\"1\" class=\"dataframe\">\n",
       "  <thead>\n",
       "    <tr style=\"text-align: right;\">\n",
       "      <th></th>\n",
       "      <th>volume</th>\n",
       "      <th>vw_avr_price</th>\n",
       "      <th>open_price</th>\n",
       "      <th>close_price</th>\n",
       "      <th>high_price</th>\n",
       "      <th>low_price</th>\n",
       "      <th>num_transactions</th>\n",
       "      <th>datetime</th>\n",
       "      <th>sma_5</th>\n",
       "      <th>sma_20</th>\n",
       "      <th>ema_5</th>\n",
       "      <th>ema_20</th>\n",
       "      <th>vol_5</th>\n",
       "      <th>daily_return</th>\n",
       "      <th>price_diff</th>\n",
       "      <th>volume_sma_5</th>\n",
       "      <th>volume_change</th>\n",
       "    </tr>\n",
       "  </thead>\n",
       "  <tbody>\n",
       "    <tr>\n",
       "      <th>341</th>\n",
       "      <td>60362338.0</td>\n",
       "      <td>165.8939</td>\n",
       "      <td>166.37</td>\n",
       "      <td>164.87</td>\n",
       "      <td>167.8100</td>\n",
       "      <td>164.2000</td>\n",
       "      <td>540017.0</td>\n",
       "      <td>2022-08-02 00:00:00+00:00</td>\n",
       "      <td>164.870</td>\n",
       "      <td>168.983000</td>\n",
       "      <td>164.870000</td>\n",
       "      <td>164.870000</td>\n",
       "      <td>0.000000</td>\n",
       "      <td>0.000000</td>\n",
       "      <td>0.00</td>\n",
       "      <td>60362338.0</td>\n",
       "      <td>0.000000</td>\n",
       "    </tr>\n",
       "    <tr>\n",
       "      <th>691</th>\n",
       "      <td>60362338.0</td>\n",
       "      <td>165.8939</td>\n",
       "      <td>166.37</td>\n",
       "      <td>164.87</td>\n",
       "      <td>167.8100</td>\n",
       "      <td>164.2000</td>\n",
       "      <td>540017.0</td>\n",
       "      <td>2022-08-03 00:00:00+00:00</td>\n",
       "      <td>164.870</td>\n",
       "      <td>168.983000</td>\n",
       "      <td>164.870000</td>\n",
       "      <td>164.870000</td>\n",
       "      <td>0.000000</td>\n",
       "      <td>0.000000</td>\n",
       "      <td>0.00</td>\n",
       "      <td>60362338.0</td>\n",
       "      <td>0.000000</td>\n",
       "    </tr>\n",
       "    <tr>\n",
       "      <th>363</th>\n",
       "      <td>60362338.0</td>\n",
       "      <td>165.8939</td>\n",
       "      <td>166.37</td>\n",
       "      <td>164.87</td>\n",
       "      <td>167.8100</td>\n",
       "      <td>164.2000</td>\n",
       "      <td>540017.0</td>\n",
       "      <td>2022-08-04 00:00:00+00:00</td>\n",
       "      <td>164.870</td>\n",
       "      <td>168.983000</td>\n",
       "      <td>164.870000</td>\n",
       "      <td>164.870000</td>\n",
       "      <td>0.000000</td>\n",
       "      <td>0.000000</td>\n",
       "      <td>0.00</td>\n",
       "      <td>60362338.0</td>\n",
       "      <td>0.000000</td>\n",
       "    </tr>\n",
       "    <tr>\n",
       "      <th>698</th>\n",
       "      <td>60362338.0</td>\n",
       "      <td>165.8939</td>\n",
       "      <td>166.37</td>\n",
       "      <td>164.87</td>\n",
       "      <td>167.8100</td>\n",
       "      <td>164.2000</td>\n",
       "      <td>540017.0</td>\n",
       "      <td>2022-08-05 00:00:00+00:00</td>\n",
       "      <td>164.870</td>\n",
       "      <td>168.983000</td>\n",
       "      <td>164.870000</td>\n",
       "      <td>164.870000</td>\n",
       "      <td>0.000000</td>\n",
       "      <td>0.000000</td>\n",
       "      <td>0.00</td>\n",
       "      <td>60362338.0</td>\n",
       "      <td>0.000000</td>\n",
       "    </tr>\n",
       "    <tr>\n",
       "      <th>352</th>\n",
       "      <td>60362338.0</td>\n",
       "      <td>165.8939</td>\n",
       "      <td>166.37</td>\n",
       "      <td>164.87</td>\n",
       "      <td>167.8100</td>\n",
       "      <td>164.2000</td>\n",
       "      <td>540017.0</td>\n",
       "      <td>2022-08-06 00:00:00+00:00</td>\n",
       "      <td>165.754</td>\n",
       "      <td>169.627000</td>\n",
       "      <td>164.870000</td>\n",
       "      <td>164.870000</td>\n",
       "      <td>1.948854</td>\n",
       "      <td>0.000000</td>\n",
       "      <td>0.00</td>\n",
       "      <td>62866611.4</td>\n",
       "      <td>0.000000</td>\n",
       "    </tr>\n",
       "    <tr>\n",
       "      <th>...</th>\n",
       "      <td>...</td>\n",
       "      <td>...</td>\n",
       "      <td>...</td>\n",
       "      <td>...</td>\n",
       "      <td>...</td>\n",
       "      <td>...</td>\n",
       "      <td>...</td>\n",
       "      <td>...</td>\n",
       "      <td>...</td>\n",
       "      <td>...</td>\n",
       "      <td>...</td>\n",
       "      <td>...</td>\n",
       "      <td>...</td>\n",
       "      <td>...</td>\n",
       "      <td>...</td>\n",
       "      <td>...</td>\n",
       "      <td>...</td>\n",
       "    </tr>\n",
       "    <tr>\n",
       "      <th>757</th>\n",
       "      <td>42388970.0</td>\n",
       "      <td>225.4078</td>\n",
       "      <td>223.92</td>\n",
       "      <td>226.05</td>\n",
       "      <td>226.8271</td>\n",
       "      <td>223.6501</td>\n",
       "      <td>562568.0</td>\n",
       "      <td>2024-08-16 04:00:00+00:00</td>\n",
       "      <td>222.258</td>\n",
       "      <td>217.277333</td>\n",
       "      <td>222.668217</td>\n",
       "      <td>219.071721</td>\n",
       "      <td>3.318896</td>\n",
       "      <td>0.005918</td>\n",
       "      <td>1.33</td>\n",
       "      <td>41340047.2</td>\n",
       "      <td>-0.057212</td>\n",
       "    </tr>\n",
       "    <tr>\n",
       "      <th>755</th>\n",
       "      <td>42388970.0</td>\n",
       "      <td>225.4078</td>\n",
       "      <td>223.92</td>\n",
       "      <td>226.05</td>\n",
       "      <td>226.8271</td>\n",
       "      <td>223.6501</td>\n",
       "      <td>562568.0</td>\n",
       "      <td>2024-08-17 00:00:00+00:00</td>\n",
       "      <td>223.962</td>\n",
       "      <td>217.672500</td>\n",
       "      <td>223.795478</td>\n",
       "      <td>219.736319</td>\n",
       "      <td>2.322040</td>\n",
       "      <td>0.000000</td>\n",
       "      <td>0.00</td>\n",
       "      <td>42511207.4</td>\n",
       "      <td>0.000000</td>\n",
       "    </tr>\n",
       "    <tr>\n",
       "      <th>756</th>\n",
       "      <td>42388970.0</td>\n",
       "      <td>225.4078</td>\n",
       "      <td>223.92</td>\n",
       "      <td>226.05</td>\n",
       "      <td>226.8271</td>\n",
       "      <td>223.6501</td>\n",
       "      <td>562568.0</td>\n",
       "      <td>2024-08-18 00:00:00+00:00</td>\n",
       "      <td>224.918</td>\n",
       "      <td>218.063000</td>\n",
       "      <td>224.546986</td>\n",
       "      <td>220.337622</td>\n",
       "      <td>1.878209</td>\n",
       "      <td>0.000000</td>\n",
       "      <td>0.00</td>\n",
       "      <td>42532774.4</td>\n",
       "      <td>0.000000</td>\n",
       "    </tr>\n",
       "    <tr>\n",
       "      <th>758</th>\n",
       "      <td>42388970.0</td>\n",
       "      <td>225.4078</td>\n",
       "      <td>223.92</td>\n",
       "      <td>226.05</td>\n",
       "      <td>226.8271</td>\n",
       "      <td>223.6501</td>\n",
       "      <td>562568.0</td>\n",
       "      <td>2024-08-19 00:00:00+00:00</td>\n",
       "      <td>225.784</td>\n",
       "      <td>218.425500</td>\n",
       "      <td>225.047990</td>\n",
       "      <td>220.881658</td>\n",
       "      <td>0.594794</td>\n",
       "      <td>0.000000</td>\n",
       "      <td>0.00</td>\n",
       "      <td>42903435.6</td>\n",
       "      <td>0.000000</td>\n",
       "    </tr>\n",
       "    <tr>\n",
       "      <th>759</th>\n",
       "      <td>42388970.0</td>\n",
       "      <td>225.4078</td>\n",
       "      <td>223.92</td>\n",
       "      <td>226.05</td>\n",
       "      <td>226.8271</td>\n",
       "      <td>223.6501</td>\n",
       "      <td>562568.0</td>\n",
       "      <td>2024-08-20 00:00:00+00:00</td>\n",
       "      <td>226.050</td>\n",
       "      <td>218.624000</td>\n",
       "      <td>225.381994</td>\n",
       "      <td>221.373881</td>\n",
       "      <td>0.000000</td>\n",
       "      <td>0.000000</td>\n",
       "      <td>0.00</td>\n",
       "      <td>42388970.0</td>\n",
       "      <td>0.000000</td>\n",
       "    </tr>\n",
       "  </tbody>\n",
       "</table>\n",
       "<p>760 rows × 17 columns</p>\n",
       "</div>"
      ],
      "text/plain": [
       "         volume  vw_avr_price  open_price  close_price  high_price  low_price  \\\n",
       "341  60362338.0      165.8939      166.37       164.87    167.8100   164.2000   \n",
       "691  60362338.0      165.8939      166.37       164.87    167.8100   164.2000   \n",
       "363  60362338.0      165.8939      166.37       164.87    167.8100   164.2000   \n",
       "698  60362338.0      165.8939      166.37       164.87    167.8100   164.2000   \n",
       "352  60362338.0      165.8939      166.37       164.87    167.8100   164.2000   \n",
       "..          ...           ...         ...          ...         ...        ...   \n",
       "757  42388970.0      225.4078      223.92       226.05    226.8271   223.6501   \n",
       "755  42388970.0      225.4078      223.92       226.05    226.8271   223.6501   \n",
       "756  42388970.0      225.4078      223.92       226.05    226.8271   223.6501   \n",
       "758  42388970.0      225.4078      223.92       226.05    226.8271   223.6501   \n",
       "759  42388970.0      225.4078      223.92       226.05    226.8271   223.6501   \n",
       "\n",
       "     num_transactions                   datetime    sma_5      sma_20  \\\n",
       "341          540017.0  2022-08-02 00:00:00+00:00  164.870  168.983000   \n",
       "691          540017.0  2022-08-03 00:00:00+00:00  164.870  168.983000   \n",
       "363          540017.0  2022-08-04 00:00:00+00:00  164.870  168.983000   \n",
       "698          540017.0  2022-08-05 00:00:00+00:00  164.870  168.983000   \n",
       "352          540017.0  2022-08-06 00:00:00+00:00  165.754  169.627000   \n",
       "..                ...                        ...      ...         ...   \n",
       "757          562568.0  2024-08-16 04:00:00+00:00  222.258  217.277333   \n",
       "755          562568.0  2024-08-17 00:00:00+00:00  223.962  217.672500   \n",
       "756          562568.0  2024-08-18 00:00:00+00:00  224.918  218.063000   \n",
       "758          562568.0  2024-08-19 00:00:00+00:00  225.784  218.425500   \n",
       "759          562568.0  2024-08-20 00:00:00+00:00  226.050  218.624000   \n",
       "\n",
       "          ema_5      ema_20     vol_5  daily_return  price_diff  volume_sma_5  \\\n",
       "341  164.870000  164.870000  0.000000      0.000000        0.00    60362338.0   \n",
       "691  164.870000  164.870000  0.000000      0.000000        0.00    60362338.0   \n",
       "363  164.870000  164.870000  0.000000      0.000000        0.00    60362338.0   \n",
       "698  164.870000  164.870000  0.000000      0.000000        0.00    60362338.0   \n",
       "352  164.870000  164.870000  1.948854      0.000000        0.00    62866611.4   \n",
       "..          ...         ...       ...           ...         ...           ...   \n",
       "757  222.668217  219.071721  3.318896      0.005918        1.33    41340047.2   \n",
       "755  223.795478  219.736319  2.322040      0.000000        0.00    42511207.4   \n",
       "756  224.546986  220.337622  1.878209      0.000000        0.00    42532774.4   \n",
       "758  225.047990  220.881658  0.594794      0.000000        0.00    42903435.6   \n",
       "759  225.381994  221.373881  0.000000      0.000000        0.00    42388970.0   \n",
       "\n",
       "     volume_change  \n",
       "341       0.000000  \n",
       "691       0.000000  \n",
       "363       0.000000  \n",
       "698       0.000000  \n",
       "352       0.000000  \n",
       "..             ...  \n",
       "757      -0.057212  \n",
       "755       0.000000  \n",
       "756       0.000000  \n",
       "758       0.000000  \n",
       "759       0.000000  \n",
       "\n",
       "[760 rows x 17 columns]"
      ]
     },
     "execution_count": 5,
     "metadata": {},
     "output_type": "execute_result"
    }
   ],
   "source": [
    "# sort the data fetched from feature-store and make sure it is sorted, the last row should be the current date because we are getting most recetn data with feature pipeline\n",
    "ts_prices.sort_values(by=[\"datetime\"], inplace=True)\n",
    "ts_prices"
   ]
  },
  {
   "cell_type": "code",
   "execution_count": 6,
   "metadata": {},
   "outputs": [
    {
     "name": "stdout",
     "output_type": "stream",
     "text": [
      "Number of sequences/examples: 746\n",
      "Last val: 173.19\n",
      "Target val: 173.19\n",
      "Features shape: (746, 13, 16)\n",
      "Targets shape: (746,)\n"
     ]
    }
   ],
   "source": [
    "from src.data import transform_ts_data_into_features_target\n",
    "\n",
    "n_previous_days = 12\n",
    "step_size = 1\n",
    "features, targets = transform_ts_data_into_features_target(ts_prices, n_previous_days, step_size)\n",
    "X = features\n",
    "Y = targets\n",
    "print(f'Features shape: {features.shape}')  # Should be (number_of_examples, n_previous_days, n_features)\n",
    "print(f'Targets shape: {targets.shape}')    # Should be (number_of_examples,)\n"
   ]
  },
  {
   "cell_type": "code",
   "execution_count": 1,
   "metadata": {},
   "outputs": [],
   "source": [
    "# from src.data import train_test_split_tabular\n",
    "\n",
    "# # combine features/targets to create tabular data\n",
    "# features_and_target = pd.DataFrame(features.copy())\n",
    "# features_and_target[\"target_close_price_next_day\"] = targets   # target column name\n",
    "# print(f\"{features_and_target.shape=}\")\n",
    "# features_and_target"
   ]
  },
  {
   "cell_type": "code",
   "execution_count": 2,
   "metadata": {},
   "outputs": [],
   "source": [
    "# from sklearn.model_selection import train_test_split\n",
    "# from src.data import train_test_split_tabular\n",
    "\n",
    "# X_train, X_test, y_train, y_test = train_test_split_tabular(features_and_target)\n",
    "# print(f\"X_train: {X_train.shape}\") # (examples-in-train, num-features)\n",
    "# print(f\"y_train: {y_train.shape}\") # (examples-in-train,) 1D beceause only one target\n",
    "# print(f\"X_test: {X_test.shape}\")   # (examples-in-test, num-features)\n",
    "# print(f\"y_test: {y_test.shape}\")"
   ]
  },
  {
   "cell_type": "code",
   "execution_count": 7,
   "metadata": {},
   "outputs": [
    {
     "name": "stdout",
     "output_type": "stream",
     "text": [
      "[LightGBM] [Info] Auto-choosing col-wise multi-threading, the overhead of testing was 0.003718 seconds.\n",
      "You can set `force_col_wise=true` to remove the overhead.\n",
      "[LightGBM] [Info] Total Bins 51566\n",
      "[LightGBM] [Info] Number of data points in the train set: 746, number of used features: 208\n",
      "[LightGBM] [Info] Start training from score 174.834799\n",
      "[LightGBM] [Warning] No further splits with positive gain, best gain: -inf\n",
      "[LightGBM] [Warning] No further splits with positive gain, best gain: -inf\n",
      "[LightGBM] [Warning] No further splits with positive gain, best gain: -inf\n",
      "[LightGBM] [Warning] No further splits with positive gain, best gain: -inf\n",
      "[LightGBM] [Warning] No further splits with positive gain, best gain: -inf\n",
      "[LightGBM] [Warning] No further splits with positive gain, best gain: -inf\n",
      "[LightGBM] [Warning] No further splits with positive gain, best gain: -inf\n",
      "[LightGBM] [Warning] No further splits with positive gain, best gain: -inf\n",
      "[LightGBM] [Warning] No further splits with positive gain, best gain: -inf\n",
      "[LightGBM] [Warning] No further splits with positive gain, best gain: -inf\n",
      "[LightGBM] [Warning] No further splits with positive gain, best gain: -inf\n",
      "[LightGBM] [Warning] No further splits with positive gain, best gain: -inf\n",
      "[LightGBM] [Warning] No further splits with positive gain, best gain: -inf\n",
      "[LightGBM] [Warning] No further splits with positive gain, best gain: -inf\n",
      "[LightGBM] [Warning] No further splits with positive gain, best gain: -inf\n",
      "[LightGBM] [Warning] No further splits with positive gain, best gain: -inf\n",
      "[LightGBM] [Warning] No further splits with positive gain, best gain: -inf\n",
      "[LightGBM] [Warning] No further splits with positive gain, best gain: -inf\n",
      "[LightGBM] [Warning] No further splits with positive gain, best gain: -inf\n",
      "[LightGBM] [Warning] No further splits with positive gain, best gain: -inf\n",
      "[LightGBM] [Warning] No further splits with positive gain, best gain: -inf\n",
      "[LightGBM] [Warning] No further splits with positive gain, best gain: -inf\n",
      "[LightGBM] [Warning] No further splits with positive gain, best gain: -inf\n",
      "[LightGBM] [Warning] No further splits with positive gain, best gain: -inf\n",
      "[LightGBM] [Warning] No further splits with positive gain, best gain: -inf\n",
      "[LightGBM] [Warning] No further splits with positive gain, best gain: -inf\n",
      "[LightGBM] [Warning] No further splits with positive gain, best gain: -inf\n",
      "[LightGBM] [Warning] No further splits with positive gain, best gain: -inf\n",
      "[LightGBM] [Warning] No further splits with positive gain, best gain: -inf\n",
      "[LightGBM] [Warning] No further splits with positive gain, best gain: -inf\n",
      "[LightGBM] [Warning] No further splits with positive gain, best gain: -inf\n",
      "[LightGBM] [Warning] No further splits with positive gain, best gain: -inf\n",
      "[LightGBM] [Warning] No further splits with positive gain, best gain: -inf\n",
      "[LightGBM] [Warning] No further splits with positive gain, best gain: -inf\n",
      "[LightGBM] [Warning] No further splits with positive gain, best gain: -inf\n",
      "[LightGBM] [Warning] No further splits with positive gain, best gain: -inf\n",
      "[LightGBM] [Warning] No further splits with positive gain, best gain: -inf\n",
      "[LightGBM] [Warning] No further splits with positive gain, best gain: -inf\n",
      "[LightGBM] [Warning] No further splits with positive gain, best gain: -inf\n",
      "[LightGBM] [Warning] No further splits with positive gain, best gain: -inf\n",
      "[LightGBM] [Warning] No further splits with positive gain, best gain: -inf\n",
      "[LightGBM] [Warning] No further splits with positive gain, best gain: -inf\n",
      "[LightGBM] [Warning] No further splits with positive gain, best gain: -inf\n",
      "[LightGBM] [Warning] No further splits with positive gain, best gain: -inf\n",
      "[LightGBM] [Warning] No further splits with positive gain, best gain: -inf\n",
      "[LightGBM] [Warning] No further splits with positive gain, best gain: -inf\n",
      "[LightGBM] [Warning] No further splits with positive gain, best gain: -inf\n",
      "[LightGBM] [Warning] No further splits with positive gain, best gain: -inf\n",
      "[LightGBM] [Warning] No further splits with positive gain, best gain: -inf\n",
      "[LightGBM] [Warning] No further splits with positive gain, best gain: -inf\n",
      "[LightGBM] [Warning] No further splits with positive gain, best gain: -inf\n",
      "[LightGBM] [Warning] No further splits with positive gain, best gain: -inf\n",
      "[LightGBM] [Warning] No further splits with positive gain, best gain: -inf\n",
      "[LightGBM] [Warning] No further splits with positive gain, best gain: -inf\n",
      "[LightGBM] [Warning] No further splits with positive gain, best gain: -inf\n",
      "[LightGBM] [Warning] No further splits with positive gain, best gain: -inf\n",
      "[LightGBM] [Warning] No further splits with positive gain, best gain: -inf\n",
      "[LightGBM] [Warning] No further splits with positive gain, best gain: -inf\n",
      "[LightGBM] [Warning] No further splits with positive gain, best gain: -inf\n",
      "[LightGBM] [Warning] No further splits with positive gain, best gain: -inf\n",
      "[LightGBM] [Warning] No further splits with positive gain, best gain: -inf\n",
      "[LightGBM] [Warning] No further splits with positive gain, best gain: -inf\n",
      "[LightGBM] [Warning] No further splits with positive gain, best gain: -inf\n",
      "[LightGBM] [Warning] No further splits with positive gain, best gain: -inf\n",
      "[LightGBM] [Warning] No further splits with positive gain, best gain: -inf\n",
      "[LightGBM] [Warning] No further splits with positive gain, best gain: -inf\n",
      "[LightGBM] [Warning] No further splits with positive gain, best gain: -inf\n",
      "[LightGBM] [Warning] No further splits with positive gain, best gain: -inf\n",
      "[LightGBM] [Warning] No further splits with positive gain, best gain: -inf\n",
      "[LightGBM] [Warning] No further splits with positive gain, best gain: -inf\n",
      "[LightGBM] [Warning] No further splits with positive gain, best gain: -inf\n",
      "[LightGBM] [Warning] No further splits with positive gain, best gain: -inf\n",
      "[LightGBM] [Warning] No further splits with positive gain, best gain: -inf\n",
      "[LightGBM] [Warning] No further splits with positive gain, best gain: -inf\n",
      "[LightGBM] [Warning] No further splits with positive gain, best gain: -inf\n",
      "[LightGBM] [Warning] No further splits with positive gain, best gain: -inf\n",
      "[LightGBM] [Warning] No further splits with positive gain, best gain: -inf\n",
      "[LightGBM] [Warning] No further splits with positive gain, best gain: -inf\n",
      "[LightGBM] [Warning] No further splits with positive gain, best gain: -inf\n",
      "[LightGBM] [Warning] No further splits with positive gain, best gain: -inf\n",
      "[LightGBM] [Warning] No further splits with positive gain, best gain: -inf\n",
      "[LightGBM] [Warning] No further splits with positive gain, best gain: -inf\n",
      "[LightGBM] [Warning] No further splits with positive gain, best gain: -inf\n",
      "[LightGBM] [Warning] No further splits with positive gain, best gain: -inf\n",
      "[LightGBM] [Warning] No further splits with positive gain, best gain: -inf\n",
      "[LightGBM] [Warning] No further splits with positive gain, best gain: -inf\n",
      "Mean Squared Error: 0.1488808476143495\n",
      "Predictions: [173.11639795 173.06364678 174.55447893 173.98484072 171.57958996]\n",
      "Actual values: [173.19 173.03 174.55 174.15 171.52]\n"
     ]
    }
   ],
   "source": [
    "# LIGHTGBM REGRESSOR MODEL\n",
    "import lightgbm as lgb\n",
    "from sklearn.model_selection import train_test_split\n",
    "from sklearn.metrics import mean_squared_error\n",
    "\n",
    "\n",
    "num_samples, sequence_length, num_features = X.shape\n",
    "X_flattened = X.reshape(num_samples, sequence_length * num_features)\n",
    "\n",
    "# Create the LightGBM Regressor model\n",
    "lgb_model = lgb.LGBMRegressor(objective='regression', n_estimators=100, learning_rate=0.1, max_depth=-1, random_state=42)\n",
    "\n",
    "# Train the model\n",
    "lgb_model.fit(X_flattened, Y)\n",
    "\n",
    "# Predict on the test set\n",
    "y_pred = lgb_model.predict(X_flattened)\n",
    "\n",
    "# Calculate the mean squared error\n",
    "mse = mean_squared_error(Y, y_pred)\n",
    "print(f\"Mean Squared Error: {mse}\")\n",
    "\n",
    "# Print the first few predictions and actual values\n",
    "print(\"Predictions:\", y_pred[:5])\n",
    "print(\"Actual values:\", Y[:5])"
   ]
  },
  {
   "cell_type": "code",
   "execution_count": 8,
   "metadata": {},
   "outputs": [
    {
     "data": {
      "text/plain": [
       "['../models/lgb_model3.pkl']"
      ]
     },
     "execution_count": 8,
     "metadata": {},
     "output_type": "execute_result"
    }
   ],
   "source": [
    "# SAVE MODEL AS PICKLE LOCALLY\n",
    "import joblib\n",
    "\n",
    "model_path = f'../models/lgb_model3.pkl'\n",
    "joblib.dump(lgb_model, model_path)\n"
   ]
  },
  {
   "cell_type": "code",
   "execution_count": 9,
   "metadata": {},
   "outputs": [],
   "source": [
    "from hsml.schema import Schema\n",
    "from hsml.model_schema import ModelSchema\n",
    "\n",
    "# before saving model in hopsworks need to define its schema\n",
    "input_schema = Schema(X)\n",
    "output_schema = Schema(Y)\n",
    "model_schema = ModelSchema(input_schema=input_schema, output_schema=output_schema)\n"
   ]
  },
  {
   "cell_type": "code",
   "execution_count": 10,
   "metadata": {},
   "outputs": [
    {
     "name": "stdout",
     "output_type": "stream",
     "text": [
      "Connected. Call `.close()` to terminate connection gracefully.\n"
     ]
    },
    {
     "data": {
      "application/vnd.jupyter.widget-view+json": {
       "model_id": "c208e59e7f9145a2a32765f81eebe1da",
       "version_major": 2,
       "version_minor": 0
      },
      "text/plain": [
       "  0%|          | 0/6 [00:00<?, ?it/s]"
      ]
     },
     "metadata": {},
     "output_type": "display_data"
    },
    {
     "data": {
      "application/vnd.jupyter.widget-view+json": {
       "model_id": "03cc0eb215ba4e4296c3c6bdaf389220",
       "version_major": 2,
       "version_minor": 0
      },
      "text/plain": [
       "Uploading: 0.000%|          | 0/278746 elapsed<00:00 remaining<?"
      ]
     },
     "metadata": {},
     "output_type": "display_data"
    },
    {
     "data": {
      "application/vnd.jupyter.widget-view+json": {
       "model_id": "2f2be8920c0d409e956994d036501d68",
       "version_major": 2,
       "version_minor": 0
      },
      "text/plain": [
       "Uploading: 0.000%|          | 0/3344 elapsed<00:00 remaining<?"
      ]
     },
     "metadata": {},
     "output_type": "display_data"
    },
    {
     "data": {
      "application/vnd.jupyter.widget-view+json": {
       "model_id": "a6c176fdfbc54052980261c81bffc38d",
       "version_major": 2,
       "version_minor": 0
      },
      "text/plain": [
       "Uploading: 0.000%|          | 0/216 elapsed<00:00 remaining<?"
      ]
     },
     "metadata": {},
     "output_type": "display_data"
    },
    {
     "name": "stdout",
     "output_type": "stream",
     "text": [
      "Model created, explore it at https://c.app.hopsworks.ai:443/p/835736/models/lightgbm_model_stock_prices3/14\n"
     ]
    },
    {
     "data": {
      "text/plain": [
       "Model(name: 'lightgbm_model_stock_prices3', version: 14)"
      ]
     },
     "execution_count": 10,
     "metadata": {},
     "output_type": "execute_result"
    }
   ],
   "source": [
    "# Connect to the Hopsworks model registry\n",
    "model_registry = project.get_model_registry()\n",
    "\n",
    "# Register the model\n",
    "model = model_registry.sklearn.create_model(\n",
    "    name=\"lightgbm_model_stock_prices3\",\n",
    "    metrics={\"MSE\": mse},\n",
    "    description=\"LightGBM model for predicting stock prices 3\",\n",
    "    input_example=X[0].reshape(1, -1),\n",
    "    model_schema=model_schema\n",
    ")\n",
    "\n",
    "# save model to hopsworks model registry\n",
    "model.save(model_path)"
   ]
  },
  {
   "cell_type": "code",
   "execution_count": null,
   "metadata": {},
   "outputs": [],
   "source": []
  }
 ],
 "metadata": {
  "kernelspec": {
   "display_name": "Python (venv)",
   "language": "python",
   "name": "venv"
  },
  "language_info": {
   "codemirror_mode": {
    "name": "ipython",
    "version": 3
   },
   "file_extension": ".py",
   "mimetype": "text/x-python",
   "name": "python",
   "nbconvert_exporter": "python",
   "pygments_lexer": "ipython3",
   "version": "3.12.4"
  }
 },
 "nbformat": 4,
 "nbformat_minor": 2
}
