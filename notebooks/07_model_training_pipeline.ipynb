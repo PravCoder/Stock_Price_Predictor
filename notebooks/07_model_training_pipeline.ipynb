{
 "cells": [
  {
   "cell_type": "code",
   "execution_count": 3,
   "metadata": {},
   "outputs": [
    {
     "name": "stdout",
     "output_type": "stream",
     "text": [
      "/Users/pravachanpatra/Documents/PYTHON/AI_ML_DL/Stock_Price_Predictor/venv/bin/python\n"
     ]
    },
    {
     "data": {
      "text/plain": [
       "True"
      ]
     },
     "execution_count": 3,
     "metadata": {},
     "output_type": "execute_result"
    }
   ],
   "source": [
    "%reload_ext autoreload\n",
    "%autoreload 2\n",
    "import sys, os\n",
    "print(sys.executable)\n",
    "module_path = os.path.abspath(os.path.join('..'))\n",
    "\n",
    "# Add the directory to sys.path\n",
    "if module_path not in sys.path:\n",
    "    sys.path.append(module_path)\n",
    "# Verify kernal path\n",
    "import numpy as np\n",
    "import pandas as pd\n",
    "import requests\n",
    "from dotenv import load_dotenv\n",
    "from datetime import datetime\n",
    "load_dotenv()"
   ]
  },
  {
   "cell_type": "code",
   "execution_count": 4,
   "metadata": {},
   "outputs": [
    {
     "name": "stdout",
     "output_type": "stream",
     "text": [
      "Connected. Call `.close()` to terminate connection gracefully.\n",
      "\n",
      "Logged in to project, explore it here https://c.app.hopsworks.ai:443/p/835736\n",
      "2024-08-08 01:43:35,185 WARNING: DeprecationWarning: The 'warn' method is deprecated, use 'warning' instead\n",
      "\n",
      "2024-08-08 01:43:35,186 WARNING: using legacy validation callback\n",
      "Connected. Call `.close()` to terminate connection gracefully.\n"
     ]
    }
   ],
   "source": [
    "import src.config as config\n",
    "import hopsworks\n",
    "\n",
    "# connect to the project\n",
    "project = hopsworks.login(\n",
    "    project=config.HOPSWORKS_PROJECT_NAME,\n",
    "    api_key_value=config.HOPSWORKS_API_KEY\n",
    ")\n",
    "\n",
    "# connect to the feature store\n",
    "feature_store = project.get_feature_store()\n",
    "\n",
    "# connect to the feature group\n",
    "feature_group = feature_store.get_feature_group(\n",
    "    name=config.FEATURE_GROUP_NAME,\n",
    "    version=config.FEATURE_GROUP_VERSION,\n",
    ")\n"
   ]
  },
  {
   "cell_type": "code",
   "execution_count": 5,
   "metadata": {},
   "outputs": [
    {
     "name": "stdout",
     "output_type": "stream",
     "text": [
      "Feaeture view already existed. Skip creation\n"
     ]
    }
   ],
   "source": [
    "# Feature view is defined to read data from feature store, define how you want to fetch data from potentially many different feature groups and merge it to get the final dataset. \n",
    "try:\n",
    "    feature_store.create_feature_view(\n",
    "        name=config.FEATURE_VIEW_NAME,\n",
    "        version=config.FEATURE_VIEW_VERSION,\n",
    "        query=feature_group.select_all()\n",
    "    )\n",
    "except:\n",
    "    print(\"Feaeture view already existed. Skip creation\")\n",
    "\n",
    "feature_view = feature_store.get_feature_view(\n",
    "    name=config.FEATURE_VIEW_NAME,\n",
    "    version=config.FEATURE_VIEW_VERSION\n",
    ")"
   ]
  },
  {
   "cell_type": "code",
   "execution_count": 6,
   "metadata": {},
   "outputs": [
    {
     "name": "stdout",
     "output_type": "stream",
     "text": [
      "Finished: Reading data from Hopsworks, using Hopsworks Feature Query Service (0.69s) \n",
      "2024-08-08 01:44:01,002 WARNING: VersionWarning: Incremented version to `36`.\n",
      "\n"
     ]
    }
   ],
   "source": [
    "# feature-view-obj.func(): gets training data-frame from hopsworks\n",
    "ts_prices, _ = feature_view.training_data(\n",
    "    description=\"Time-series daily stock prices\"\n",
    ")"
   ]
  },
  {
   "cell_type": "code",
   "execution_count": 7,
   "metadata": {},
   "outputs": [
    {
     "data": {
      "text/html": [
       "<div>\n",
       "<style scoped>\n",
       "    .dataframe tbody tr th:only-of-type {\n",
       "        vertical-align: middle;\n",
       "    }\n",
       "\n",
       "    .dataframe tbody tr th {\n",
       "        vertical-align: top;\n",
       "    }\n",
       "\n",
       "    .dataframe thead th {\n",
       "        text-align: right;\n",
       "    }\n",
       "</style>\n",
       "<table border=\"1\" class=\"dataframe\">\n",
       "  <thead>\n",
       "    <tr style=\"text-align: right;\">\n",
       "      <th></th>\n",
       "      <th>volume</th>\n",
       "      <th>vw_avr_price</th>\n",
       "      <th>open_price</th>\n",
       "      <th>close_price</th>\n",
       "      <th>high_price</th>\n",
       "      <th>low_price</th>\n",
       "      <th>num_transactions</th>\n",
       "      <th>datetime</th>\n",
       "      <th>sma_5</th>\n",
       "      <th>sma_20</th>\n",
       "      <th>ema_5</th>\n",
       "      <th>ema_20</th>\n",
       "      <th>vol_5</th>\n",
       "      <th>daily_return</th>\n",
       "      <th>price_diff</th>\n",
       "      <th>volume_sma_5</th>\n",
       "      <th>volume_change</th>\n",
       "    </tr>\n",
       "  </thead>\n",
       "  <tbody>\n",
       "    <tr>\n",
       "      <th>341</th>\n",
       "      <td>6.036234e+07</td>\n",
       "      <td>165.893900</td>\n",
       "      <td>166.370000</td>\n",
       "      <td>164.87</td>\n",
       "      <td>167.810000</td>\n",
       "      <td>164.200000</td>\n",
       "      <td>540017.0</td>\n",
       "      <td>2022-08-02 00:00:00+00:00</td>\n",
       "      <td>164.870</td>\n",
       "      <td>168.9830</td>\n",
       "      <td>164.870000</td>\n",
       "      <td>164.870000</td>\n",
       "      <td>0.000000</td>\n",
       "      <td>0.000000</td>\n",
       "      <td>0.00</td>\n",
       "      <td>60362338.0</td>\n",
       "      <td>0.000000</td>\n",
       "    </tr>\n",
       "    <tr>\n",
       "      <th>691</th>\n",
       "      <td>6.036234e+07</td>\n",
       "      <td>165.893900</td>\n",
       "      <td>166.370000</td>\n",
       "      <td>164.87</td>\n",
       "      <td>167.810000</td>\n",
       "      <td>164.200000</td>\n",
       "      <td>540017.0</td>\n",
       "      <td>2022-08-03 00:00:00+00:00</td>\n",
       "      <td>164.870</td>\n",
       "      <td>168.9830</td>\n",
       "      <td>164.870000</td>\n",
       "      <td>164.870000</td>\n",
       "      <td>0.000000</td>\n",
       "      <td>0.000000</td>\n",
       "      <td>0.00</td>\n",
       "      <td>60362338.0</td>\n",
       "      <td>0.000000</td>\n",
       "    </tr>\n",
       "    <tr>\n",
       "      <th>363</th>\n",
       "      <td>6.036234e+07</td>\n",
       "      <td>165.893900</td>\n",
       "      <td>166.370000</td>\n",
       "      <td>164.87</td>\n",
       "      <td>167.810000</td>\n",
       "      <td>164.200000</td>\n",
       "      <td>540017.0</td>\n",
       "      <td>2022-08-04 00:00:00+00:00</td>\n",
       "      <td>164.870</td>\n",
       "      <td>168.9830</td>\n",
       "      <td>164.870000</td>\n",
       "      <td>164.870000</td>\n",
       "      <td>0.000000</td>\n",
       "      <td>0.000000</td>\n",
       "      <td>0.00</td>\n",
       "      <td>60362338.0</td>\n",
       "      <td>0.000000</td>\n",
       "    </tr>\n",
       "    <tr>\n",
       "      <th>698</th>\n",
       "      <td>6.036234e+07</td>\n",
       "      <td>165.893900</td>\n",
       "      <td>166.370000</td>\n",
       "      <td>164.87</td>\n",
       "      <td>167.810000</td>\n",
       "      <td>164.200000</td>\n",
       "      <td>540017.0</td>\n",
       "      <td>2022-08-05 00:00:00+00:00</td>\n",
       "      <td>164.870</td>\n",
       "      <td>168.9830</td>\n",
       "      <td>164.870000</td>\n",
       "      <td>164.870000</td>\n",
       "      <td>0.000000</td>\n",
       "      <td>0.000000</td>\n",
       "      <td>0.00</td>\n",
       "      <td>60362338.0</td>\n",
       "      <td>0.000000</td>\n",
       "    </tr>\n",
       "    <tr>\n",
       "      <th>352</th>\n",
       "      <td>6.036234e+07</td>\n",
       "      <td>165.893900</td>\n",
       "      <td>166.370000</td>\n",
       "      <td>164.87</td>\n",
       "      <td>167.810000</td>\n",
       "      <td>164.200000</td>\n",
       "      <td>540017.0</td>\n",
       "      <td>2022-08-06 00:00:00+00:00</td>\n",
       "      <td>165.754</td>\n",
       "      <td>169.6270</td>\n",
       "      <td>164.870000</td>\n",
       "      <td>164.870000</td>\n",
       "      <td>1.948854</td>\n",
       "      <td>0.000000</td>\n",
       "      <td>0.00</td>\n",
       "      <td>62866611.4</td>\n",
       "      <td>0.000000</td>\n",
       "    </tr>\n",
       "    <tr>\n",
       "      <th>...</th>\n",
       "      <td>...</td>\n",
       "      <td>...</td>\n",
       "      <td>...</td>\n",
       "      <td>...</td>\n",
       "      <td>...</td>\n",
       "      <td>...</td>\n",
       "      <td>...</td>\n",
       "      <td>...</td>\n",
       "      <td>...</td>\n",
       "      <td>...</td>\n",
       "      <td>...</td>\n",
       "      <td>...</td>\n",
       "      <td>...</td>\n",
       "      <td>...</td>\n",
       "      <td>...</td>\n",
       "      <td>...</td>\n",
       "      <td>...</td>\n",
       "    </tr>\n",
       "    <tr>\n",
       "      <th>621</th>\n",
       "      <td>1.138001e+08</td>\n",
       "      <td>212.517967</td>\n",
       "      <td>205.776667</td>\n",
       "      <td>212.80</td>\n",
       "      <td>217.533333</td>\n",
       "      <td>203.236667</td>\n",
       "      <td>1485155.0</td>\n",
       "      <td>2024-08-04 00:00:00+00:00</td>\n",
       "      <td>217.886</td>\n",
       "      <td>221.3045</td>\n",
       "      <td>216.574198</td>\n",
       "      <td>220.029169</td>\n",
       "      <td>3.535517</td>\n",
       "      <td>-0.016318</td>\n",
       "      <td>-3.53</td>\n",
       "      <td>86840273.4</td>\n",
       "      <td>0.051585</td>\n",
       "    </tr>\n",
       "    <tr>\n",
       "      <th>439</th>\n",
       "      <td>1.026353e+08</td>\n",
       "      <td>221.951900</td>\n",
       "      <td>219.150000</td>\n",
       "      <td>219.86</td>\n",
       "      <td>225.600000</td>\n",
       "      <td>217.710000</td>\n",
       "      <td>1132479.0</td>\n",
       "      <td>2024-08-05 00:00:00+00:00</td>\n",
       "      <td>219.560</td>\n",
       "      <td>221.0860</td>\n",
       "      <td>219.761317</td>\n",
       "      <td>220.896606</td>\n",
       "      <td>0.670820</td>\n",
       "      <td>0.000000</td>\n",
       "      <td>0.00</td>\n",
       "      <td>94333305.4</td>\n",
       "      <td>0.000000</td>\n",
       "    </tr>\n",
       "    <tr>\n",
       "      <th>736</th>\n",
       "      <td>1.193825e+08</td>\n",
       "      <td>207.801000</td>\n",
       "      <td>199.090000</td>\n",
       "      <td>209.27</td>\n",
       "      <td>213.500000</td>\n",
       "      <td>196.000000</td>\n",
       "      <td>1661493.0</td>\n",
       "      <td>2024-08-05 04:00:00+00:00</td>\n",
       "      <td>215.324</td>\n",
       "      <td>220.0270</td>\n",
       "      <td>214.139466</td>\n",
       "      <td>219.004486</td>\n",
       "      <td>4.296106</td>\n",
       "      <td>-0.016588</td>\n",
       "      <td>-3.53</td>\n",
       "      <td>101032180.2</td>\n",
       "      <td>0.049054</td>\n",
       "    </tr>\n",
       "    <tr>\n",
       "      <th>735</th>\n",
       "      <td>1.193825e+08</td>\n",
       "      <td>207.801000</td>\n",
       "      <td>199.090000</td>\n",
       "      <td>209.27</td>\n",
       "      <td>213.500000</td>\n",
       "      <td>196.000000</td>\n",
       "      <td>1661493.0</td>\n",
       "      <td>2024-08-06 00:00:00+00:00</td>\n",
       "      <td>213.506</td>\n",
       "      <td>219.0465</td>\n",
       "      <td>212.516310</td>\n",
       "      <td>218.077392</td>\n",
       "      <td>4.602557</td>\n",
       "      <td>0.000000</td>\n",
       "      <td>0.00</td>\n",
       "      <td>112683633.2</td>\n",
       "      <td>0.000000</td>\n",
       "    </tr>\n",
       "    <tr>\n",
       "      <th>737</th>\n",
       "      <td>1.193825e+08</td>\n",
       "      <td>207.801000</td>\n",
       "      <td>199.090000</td>\n",
       "      <td>209.27</td>\n",
       "      <td>213.500000</td>\n",
       "      <td>196.000000</td>\n",
       "      <td>1661493.0</td>\n",
       "      <td>2024-08-07 00:00:00+00:00</td>\n",
       "      <td>211.388</td>\n",
       "      <td>218.3010</td>\n",
       "      <td>211.434207</td>\n",
       "      <td>217.238593</td>\n",
       "      <td>3.157328</td>\n",
       "      <td>0.000000</td>\n",
       "      <td>0.00</td>\n",
       "      <td>116033070.6</td>\n",
       "      <td>0.000000</td>\n",
       "    </tr>\n",
       "  </tbody>\n",
       "</table>\n",
       "<p>738 rows × 17 columns</p>\n",
       "</div>"
      ],
      "text/plain": [
       "           volume  vw_avr_price  open_price  close_price  high_price  \\\n",
       "341  6.036234e+07    165.893900  166.370000       164.87  167.810000   \n",
       "691  6.036234e+07    165.893900  166.370000       164.87  167.810000   \n",
       "363  6.036234e+07    165.893900  166.370000       164.87  167.810000   \n",
       "698  6.036234e+07    165.893900  166.370000       164.87  167.810000   \n",
       "352  6.036234e+07    165.893900  166.370000       164.87  167.810000   \n",
       "..            ...           ...         ...          ...         ...   \n",
       "621  1.138001e+08    212.517967  205.776667       212.80  217.533333   \n",
       "439  1.026353e+08    221.951900  219.150000       219.86  225.600000   \n",
       "736  1.193825e+08    207.801000  199.090000       209.27  213.500000   \n",
       "735  1.193825e+08    207.801000  199.090000       209.27  213.500000   \n",
       "737  1.193825e+08    207.801000  199.090000       209.27  213.500000   \n",
       "\n",
       "      low_price  num_transactions                   datetime    sma_5  \\\n",
       "341  164.200000          540017.0  2022-08-02 00:00:00+00:00  164.870   \n",
       "691  164.200000          540017.0  2022-08-03 00:00:00+00:00  164.870   \n",
       "363  164.200000          540017.0  2022-08-04 00:00:00+00:00  164.870   \n",
       "698  164.200000          540017.0  2022-08-05 00:00:00+00:00  164.870   \n",
       "352  164.200000          540017.0  2022-08-06 00:00:00+00:00  165.754   \n",
       "..          ...               ...                        ...      ...   \n",
       "621  203.236667         1485155.0  2024-08-04 00:00:00+00:00  217.886   \n",
       "439  217.710000         1132479.0  2024-08-05 00:00:00+00:00  219.560   \n",
       "736  196.000000         1661493.0  2024-08-05 04:00:00+00:00  215.324   \n",
       "735  196.000000         1661493.0  2024-08-06 00:00:00+00:00  213.506   \n",
       "737  196.000000         1661493.0  2024-08-07 00:00:00+00:00  211.388   \n",
       "\n",
       "       sma_20       ema_5      ema_20     vol_5  daily_return  price_diff  \\\n",
       "341  168.9830  164.870000  164.870000  0.000000      0.000000        0.00   \n",
       "691  168.9830  164.870000  164.870000  0.000000      0.000000        0.00   \n",
       "363  168.9830  164.870000  164.870000  0.000000      0.000000        0.00   \n",
       "698  168.9830  164.870000  164.870000  0.000000      0.000000        0.00   \n",
       "352  169.6270  164.870000  164.870000  1.948854      0.000000        0.00   \n",
       "..        ...         ...         ...       ...           ...         ...   \n",
       "621  221.3045  216.574198  220.029169  3.535517     -0.016318       -3.53   \n",
       "439  221.0860  219.761317  220.896606  0.670820      0.000000        0.00   \n",
       "736  220.0270  214.139466  219.004486  4.296106     -0.016588       -3.53   \n",
       "735  219.0465  212.516310  218.077392  4.602557      0.000000        0.00   \n",
       "737  218.3010  211.434207  217.238593  3.157328      0.000000        0.00   \n",
       "\n",
       "     volume_sma_5  volume_change  \n",
       "341    60362338.0       0.000000  \n",
       "691    60362338.0       0.000000  \n",
       "363    60362338.0       0.000000  \n",
       "698    60362338.0       0.000000  \n",
       "352    62866611.4       0.000000  \n",
       "..            ...            ...  \n",
       "621    86840273.4       0.051585  \n",
       "439    94333305.4       0.000000  \n",
       "736   101032180.2       0.049054  \n",
       "735   112683633.2       0.000000  \n",
       "737   116033070.6       0.000000  \n",
       "\n",
       "[738 rows x 17 columns]"
      ]
     },
     "execution_count": 7,
     "metadata": {},
     "output_type": "execute_result"
    }
   ],
   "source": [
    "# sort the data fetched from feature-store and make sure it is sorted, the last row should be the current date because we are getting most recetn data with feature pipeline\n",
    "ts_prices.sort_values(by=[\"datetime\"], inplace=True)\n",
    "ts_prices"
   ]
  },
  {
   "cell_type": "code",
   "execution_count": 8,
   "metadata": {},
   "outputs": [
    {
     "name": "stdout",
     "output_type": "stream",
     "text": [
      "Number of sequences/examples: 724\n",
      "Last val: 172.82666666666665\n",
      "Target val: 173.19\n",
      "Features shape: (724, 13, 16)\n",
      "Targets shape: (724,)\n"
     ]
    }
   ],
   "source": [
    "from src.data import transform_ts_data_into_features_target\n",
    "\n",
    "n_previous_days = 12\n",
    "step_size = 1\n",
    "features, targets = transform_ts_data_into_features_target(ts_prices, n_previous_days, step_size)\n",
    "X = features\n",
    "Y = targets\n",
    "print(f'Features shape: {features.shape}')  # Should be (number_of_examples, n_previous_days, n_features)\n",
    "print(f'Targets shape: {targets.shape}')    # Should be (number_of_examples,)\n"
   ]
  },
  {
   "cell_type": "code",
   "execution_count": 1,
   "metadata": {},
   "outputs": [],
   "source": [
    "# from src.data import train_test_split_tabular\n",
    "\n",
    "# # combine features/targets to create tabular data\n",
    "# features_and_target = pd.DataFrame(features.copy())\n",
    "# features_and_target[\"target_close_price_next_day\"] = targets   # target column name\n",
    "# print(f\"{features_and_target.shape=}\")\n",
    "# features_and_target"
   ]
  },
  {
   "cell_type": "code",
   "execution_count": 2,
   "metadata": {},
   "outputs": [],
   "source": [
    "# from sklearn.model_selection import train_test_split\n",
    "# from src.data import train_test_split_tabular\n",
    "\n",
    "# X_train, X_test, y_train, y_test = train_test_split_tabular(features_and_target)\n",
    "# print(f\"X_train: {X_train.shape}\") # (examples-in-train, num-features)\n",
    "# print(f\"y_train: {y_train.shape}\") # (examples-in-train,) 1D beceause only one target\n",
    "# print(f\"X_test: {X_test.shape}\")   # (examples-in-test, num-features)\n",
    "# print(f\"y_test: {y_test.shape}\")"
   ]
  },
  {
   "cell_type": "code",
   "execution_count": 9,
   "metadata": {},
   "outputs": [
    {
     "name": "stdout",
     "output_type": "stream",
     "text": [
      "[LightGBM] [Info] Auto-choosing col-wise multi-threading, the overhead of testing was 0.001585 seconds.\n",
      "You can set `force_col_wise=true` to remove the overhead.\n",
      "[LightGBM] [Info] Total Bins 50257\n",
      "[LightGBM] [Info] Number of data points in the train set: 724, number of used features: 208\n",
      "[LightGBM] [Info] Start training from score 173.517983\n",
      "[LightGBM] [Warning] No further splits with positive gain, best gain: -inf\n",
      "[LightGBM] [Warning] No further splits with positive gain, best gain: -inf\n",
      "[LightGBM] [Warning] No further splits with positive gain, best gain: -inf\n",
      "[LightGBM] [Warning] No further splits with positive gain, best gain: -inf\n",
      "[LightGBM] [Warning] No further splits with positive gain, best gain: -inf\n",
      "[LightGBM] [Warning] No further splits with positive gain, best gain: -inf\n",
      "[LightGBM] [Warning] No further splits with positive gain, best gain: -inf\n",
      "[LightGBM] [Warning] No further splits with positive gain, best gain: -inf\n",
      "[LightGBM] [Warning] No further splits with positive gain, best gain: -inf\n",
      "[LightGBM] [Warning] No further splits with positive gain, best gain: -inf\n",
      "[LightGBM] [Warning] No further splits with positive gain, best gain: -inf\n",
      "[LightGBM] [Warning] No further splits with positive gain, best gain: -inf\n",
      "[LightGBM] [Warning] No further splits with positive gain, best gain: -inf\n",
      "[LightGBM] [Warning] No further splits with positive gain, best gain: -inf\n",
      "[LightGBM] [Warning] No further splits with positive gain, best gain: -inf\n",
      "[LightGBM] [Warning] No further splits with positive gain, best gain: -inf\n",
      "[LightGBM] [Warning] No further splits with positive gain, best gain: -inf\n",
      "[LightGBM] [Warning] No further splits with positive gain, best gain: -inf\n",
      "[LightGBM] [Warning] No further splits with positive gain, best gain: -inf\n",
      "[LightGBM] [Warning] No further splits with positive gain, best gain: -inf\n",
      "[LightGBM] [Warning] No further splits with positive gain, best gain: -inf\n",
      "[LightGBM] [Warning] No further splits with positive gain, best gain: -inf\n",
      "[LightGBM] [Warning] No further splits with positive gain, best gain: -inf\n",
      "[LightGBM] [Warning] No further splits with positive gain, best gain: -inf\n",
      "[LightGBM] [Warning] No further splits with positive gain, best gain: -inf\n",
      "[LightGBM] [Warning] No further splits with positive gain, best gain: -inf\n",
      "[LightGBM] [Warning] No further splits with positive gain, best gain: -inf\n",
      "[LightGBM] [Warning] No further splits with positive gain, best gain: -inf\n",
      "[LightGBM] [Warning] No further splits with positive gain, best gain: -inf\n",
      "[LightGBM] [Warning] No further splits with positive gain, best gain: -inf\n",
      "[LightGBM] [Warning] No further splits with positive gain, best gain: -inf\n",
      "[LightGBM] [Warning] No further splits with positive gain, best gain: -inf\n",
      "[LightGBM] [Warning] No further splits with positive gain, best gain: -inf\n",
      "[LightGBM] [Warning] No further splits with positive gain, best gain: -inf\n",
      "[LightGBM] [Warning] No further splits with positive gain, best gain: -inf\n",
      "[LightGBM] [Warning] No further splits with positive gain, best gain: -inf\n",
      "[LightGBM] [Warning] No further splits with positive gain, best gain: -inf\n",
      "[LightGBM] [Warning] No further splits with positive gain, best gain: -inf\n",
      "[LightGBM] [Warning] No further splits with positive gain, best gain: -inf\n",
      "[LightGBM] [Warning] No further splits with positive gain, best gain: -inf\n",
      "[LightGBM] [Warning] No further splits with positive gain, best gain: -inf\n",
      "[LightGBM] [Warning] No further splits with positive gain, best gain: -inf\n",
      "[LightGBM] [Warning] No further splits with positive gain, best gain: -inf\n",
      "[LightGBM] [Warning] No further splits with positive gain, best gain: -inf\n",
      "[LightGBM] [Warning] No further splits with positive gain, best gain: -inf\n",
      "[LightGBM] [Warning] No further splits with positive gain, best gain: -inf\n",
      "[LightGBM] [Warning] No further splits with positive gain, best gain: -inf\n",
      "[LightGBM] [Warning] No further splits with positive gain, best gain: -inf\n",
      "[LightGBM] [Warning] No further splits with positive gain, best gain: -inf\n",
      "[LightGBM] [Warning] No further splits with positive gain, best gain: -inf\n",
      "[LightGBM] [Warning] No further splits with positive gain, best gain: -inf\n",
      "[LightGBM] [Warning] No further splits with positive gain, best gain: -inf\n",
      "[LightGBM] [Warning] No further splits with positive gain, best gain: -inf\n",
      "[LightGBM] [Warning] No further splits with positive gain, best gain: -inf\n",
      "[LightGBM] [Warning] No further splits with positive gain, best gain: -inf\n",
      "[LightGBM] [Warning] No further splits with positive gain, best gain: -inf\n",
      "[LightGBM] [Warning] No further splits with positive gain, best gain: -inf\n",
      "[LightGBM] [Warning] No further splits with positive gain, best gain: -inf\n",
      "[LightGBM] [Warning] No further splits with positive gain, best gain: -inf\n",
      "[LightGBM] [Warning] No further splits with positive gain, best gain: -inf\n",
      "[LightGBM] [Warning] No further splits with positive gain, best gain: -inf\n",
      "[LightGBM] [Warning] No further splits with positive gain, best gain: -inf\n",
      "[LightGBM] [Warning] No further splits with positive gain, best gain: -inf\n",
      "[LightGBM] [Warning] No further splits with positive gain, best gain: -inf\n",
      "[LightGBM] [Warning] No further splits with positive gain, best gain: -inf\n",
      "[LightGBM] [Warning] No further splits with positive gain, best gain: -inf\n",
      "[LightGBM] [Warning] No further splits with positive gain, best gain: -inf\n",
      "[LightGBM] [Warning] No further splits with positive gain, best gain: -inf\n",
      "[LightGBM] [Warning] No further splits with positive gain, best gain: -inf\n",
      "[LightGBM] [Warning] No further splits with positive gain, best gain: -inf\n",
      "[LightGBM] [Warning] No further splits with positive gain, best gain: -inf\n",
      "[LightGBM] [Warning] No further splits with positive gain, best gain: -inf\n",
      "[LightGBM] [Warning] No further splits with positive gain, best gain: -inf\n",
      "[LightGBM] [Warning] No further splits with positive gain, best gain: -inf\n",
      "[LightGBM] [Warning] No further splits with positive gain, best gain: -inf\n",
      "[LightGBM] [Warning] No further splits with positive gain, best gain: -inf\n",
      "[LightGBM] [Warning] No further splits with positive gain, best gain: -inf\n",
      "[LightGBM] [Warning] No further splits with positive gain, best gain: -inf\n",
      "[LightGBM] [Warning] No further splits with positive gain, best gain: -inf\n",
      "[LightGBM] [Warning] No further splits with positive gain, best gain: -inf\n",
      "[LightGBM] [Warning] No further splits with positive gain, best gain: -inf\n",
      "[LightGBM] [Warning] No further splits with positive gain, best gain: -inf\n",
      "[LightGBM] [Warning] No further splits with positive gain, best gain: -inf\n",
      "[LightGBM] [Warning] No further splits with positive gain, best gain: -inf\n",
      "[LightGBM] [Warning] No further splits with positive gain, best gain: -inf\n",
      "[LightGBM] [Warning] No further splits with positive gain, best gain: -inf\n",
      "[LightGBM] [Warning] No further splits with positive gain, best gain: -inf\n",
      "[LightGBM] [Warning] No further splits with positive gain, best gain: -inf\n",
      "[LightGBM] [Warning] No further splits with positive gain, best gain: -inf\n",
      "[LightGBM] [Warning] No further splits with positive gain, best gain: -inf\n",
      "[LightGBM] [Warning] No further splits with positive gain, best gain: -inf\n",
      "[LightGBM] [Warning] No further splits with positive gain, best gain: -inf\n",
      "[LightGBM] [Warning] No further splits with positive gain, best gain: -inf\n",
      "[LightGBM] [Warning] No further splits with positive gain, best gain: -inf\n",
      "[LightGBM] [Warning] No further splits with positive gain, best gain: -inf\n",
      "[LightGBM] [Warning] No further splits with positive gain, best gain: -inf\n",
      "[LightGBM] [Warning] No further splits with positive gain, best gain: -inf\n",
      "[LightGBM] [Warning] No further splits with positive gain, best gain: -inf\n",
      "[LightGBM] [Warning] No further splits with positive gain, best gain: -inf\n",
      "Mean Squared Error: 0.18304993895703037\n",
      "Predictions: [173.16587999 173.05124824 174.36462022 174.30603642 171.54209836]\n",
      "Actual values: [173.19 173.03 174.55 174.15 171.52]\n"
     ]
    }
   ],
   "source": [
    "# LIGHTGBM REGRESSOR MODEL\n",
    "import lightgbm as lgb\n",
    "from sklearn.model_selection import train_test_split\n",
    "from sklearn.metrics import mean_squared_error\n",
    "\n",
    "\n",
    "num_samples, sequence_length, num_features = X.shape\n",
    "X_flattened = X.reshape(num_samples, sequence_length * num_features)\n",
    "\n",
    "# Create the LightGBM Regressor model\n",
    "lgb_model = lgb.LGBMRegressor(objective='regression', n_estimators=100, learning_rate=0.1, max_depth=-1, random_state=42)\n",
    "\n",
    "# Train the model\n",
    "lgb_model.fit(X_flattened, Y)\n",
    "\n",
    "# Predict on the test set\n",
    "y_pred = lgb_model.predict(X_flattened)\n",
    "\n",
    "# Calculate the mean squared error\n",
    "mse = mean_squared_error(Y, y_pred)\n",
    "print(f\"Mean Squared Error: {mse}\")\n",
    "\n",
    "# Print the first few predictions and actual values\n",
    "print(\"Predictions:\", y_pred[:5])\n",
    "print(\"Actual values:\", Y[:5])"
   ]
  },
  {
   "cell_type": "code",
   "execution_count": 31,
   "metadata": {},
   "outputs": [
    {
     "data": {
      "text/plain": [
       "['../models/lgb_model3.pkl']"
      ]
     },
     "execution_count": 31,
     "metadata": {},
     "output_type": "execute_result"
    }
   ],
   "source": [
    "# SAVE MODEL AS PICKLE LOCALLY\n",
    "import joblib\n",
    "\n",
    "model_path = f'../models/lgb_model3.pkl'\n",
    "joblib.dump(lgb_model, model_path)\n"
   ]
  },
  {
   "cell_type": "code",
   "execution_count": 32,
   "metadata": {},
   "outputs": [],
   "source": [
    "from hsml.schema import Schema\n",
    "from hsml.model_schema import ModelSchema\n",
    "\n",
    "# before saving model in hopsworks need to define its schema\n",
    "input_schema = Schema(X)\n",
    "output_schema = Schema(Y)\n",
    "model_schema = ModelSchema(input_schema=input_schema, output_schema=output_schema)\n"
   ]
  },
  {
   "cell_type": "code",
   "execution_count": 30,
   "metadata": {},
   "outputs": [
    {
     "name": "stdout",
     "output_type": "stream",
     "text": [
      "Connected. Call `.close()` to terminate connection gracefully.\n"
     ]
    },
    {
     "data": {
      "application/vnd.jupyter.widget-view+json": {
       "model_id": "eda5b9d55be74a1699cd6e0c6459d556",
       "version_major": 2,
       "version_minor": 0
      },
      "text/plain": [
       "  0%|          | 0/6 [00:00<?, ?it/s]"
      ]
     },
     "metadata": {},
     "output_type": "display_data"
    },
    {
     "data": {
      "application/vnd.jupyter.widget-view+json": {
       "model_id": "cc6f6f1256f841a6a867b0830050ac32",
       "version_major": 2,
       "version_minor": 0
      },
      "text/plain": [
       "Uploading: 0.000%|          | 0/269567 elapsed<00:00 remaining<?"
      ]
     },
     "metadata": {},
     "output_type": "display_data"
    },
    {
     "data": {
      "application/vnd.jupyter.widget-view+json": {
       "model_id": "6cdfb721cd974d8db33f05b759a238b3",
       "version_major": 2,
       "version_minor": 0
      },
      "text/plain": [
       "Uploading: 0.000%|          | 0/3429 elapsed<00:00 remaining<?"
      ]
     },
     "metadata": {},
     "output_type": "display_data"
    },
    {
     "data": {
      "application/vnd.jupyter.widget-view+json": {
       "model_id": "9a743a3481cd4753b256f403ac2e5a1c",
       "version_major": 2,
       "version_minor": 0
      },
      "text/plain": [
       "Uploading: 0.000%|          | 0/216 elapsed<00:00 remaining<?"
      ]
     },
     "metadata": {},
     "output_type": "display_data"
    },
    {
     "name": "stdout",
     "output_type": "stream",
     "text": [
      "Model created, explore it at https://c.app.hopsworks.ai:443/p/835736/models/lightgbm_model_stock_prices3/1\n"
     ]
    },
    {
     "data": {
      "text/plain": [
       "Model(name: 'lightgbm_model_stock_prices3', version: 1)"
      ]
     },
     "execution_count": 30,
     "metadata": {},
     "output_type": "execute_result"
    }
   ],
   "source": [
    "# Connect to the Hopsworks model registry\n",
    "model_registry = project.get_model_registry()\n",
    "\n",
    "# Register the model\n",
    "model = model_registry.sklearn.create_model(\n",
    "    name=\"lightgbm_model_stock_prices3\",\n",
    "    metrics={\"MSE\": mse},\n",
    "    description=\"LightGBM model for predicting stock prices 3\",\n",
    "    input_example=X[0].reshape(1, -1),\n",
    "    model_schema=model_schema\n",
    ")\n",
    "\n",
    "# Upload the model file\n",
    "model.save(model_path)"
   ]
  },
  {
   "cell_type": "code",
   "execution_count": null,
   "metadata": {},
   "outputs": [],
   "source": []
  }
 ],
 "metadata": {
  "kernelspec": {
   "display_name": "Python (venv)",
   "language": "python",
   "name": "venv"
  },
  "language_info": {
   "codemirror_mode": {
    "name": "ipython",
    "version": 3
   },
   "file_extension": ".py",
   "mimetype": "text/x-python",
   "name": "python",
   "nbconvert_exporter": "python",
   "pygments_lexer": "ipython3",
   "version": "3.12.4"
  }
 },
 "nbformat": 4,
 "nbformat_minor": 2
}
