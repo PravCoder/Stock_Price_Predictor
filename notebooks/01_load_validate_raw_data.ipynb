{
 "cells": [
  {
   "cell_type": "code",
   "execution_count": 75,
   "metadata": {},
   "outputs": [
    {
     "name": "stdout",
     "output_type": "stream",
     "text": [
      "/Users/pravachanpatra/Documents/PYTHON/AI_ML_DL/Stock_Price_Predictor/venv/bin/python\n",
      "dict_keys(['ticker', 'queryCount', 'resultsCount', 'adjusted', 'results', 'status', 'request_id', 'count'])\n",
      "                          Volume        vw     Open   Close     High     Low  \\\n",
      "Date                                                                           \n",
      "2022-08-04 04:00:00   55474144.0  165.5946  166.005  165.81  167.190  164.43   \n",
      "2022-08-05 04:00:00   56696985.0  164.7432  163.210  165.35  165.850  163.00   \n",
      "2022-08-08 04:00:00   60362338.0  165.8939  166.370  164.87  167.810  164.20   \n",
      "2022-08-09 04:00:00   63075503.0  164.8395  164.020  164.92  165.820  163.25   \n",
      "2022-08-10 04:00:00   70170540.0  168.3496  167.680  169.24  169.340  166.90   \n",
      "...                          ...       ...      ...     ...      ...     ...   \n",
      "2024-07-29 04:00:00   35153729.0  218.1319  216.960  218.24  219.300  215.75   \n",
      "2024-07-30 04:00:00   40681625.0  218.4059  219.190  218.80  220.325  216.12   \n",
      "2024-07-31 04:00:00   48422974.0  222.3441  221.440  222.08  223.820  220.63   \n",
      "2024-08-01 04:00:00   61125243.0  219.4773  224.370  218.36  224.480  217.02   \n",
      "2024-08-02 04:00:00  102635321.0  221.9519  219.150  219.86  225.600  217.71   \n",
      "\n",
      "                           n  \n",
      "Date                          \n",
      "2022-08-04 04:00:00   525012  \n",
      "2022-08-05 04:00:00   491310  \n",
      "2022-08-08 04:00:00   540017  \n",
      "2022-08-09 04:00:00   480552  \n",
      "2022-08-10 04:00:00   559789  \n",
      "...                      ...  \n",
      "2024-07-29 04:00:00   604680  \n",
      "2024-07-30 04:00:00   584305  \n",
      "2024-07-31 04:00:00   668833  \n",
      "2024-08-01 04:00:00   876046  \n",
      "2024-08-02 04:00:00  1132479  \n",
      "\n",
      "[502 rows x 7 columns]\n"
     ]
    }
   ],
   "source": [
    "import sys\n",
    "print(sys.executable)\n",
    "# Verify kernal path\n",
    "import numpy as np\n",
    "import pandas as pd\n",
    "import os\n",
    "import requests\n",
    "from dotenv import load_dotenv\n",
    "load_dotenv()\n",
    "load_dotenv()\n",
    "\n",
    "\"\"\"\n",
    "Downloads data for every dat in date range for the given stock symbol. Saves it as parquet file in data/raw\n",
    "\"\"\"\n",
    "def dowload_one_file_of_raw_data(symbol, start_date, end_date):\n",
    "    POLYGON_API_KEY = os.getenv('POLYGON_API_KEY')\n",
    "    url = f\"https://api.polygon.io/v2/aggs/ticker/{symbol}/range/1/day/{start_date}/{end_date}?apiKey={POLYGON_API_KEY}\"\n",
    "    response = requests.get(url)\n",
    "    data = response.json()\n",
    "    \n",
    "    # Print keys to inspect the structure of the data\n",
    "    print(dict(data).keys())\n",
    "\n",
    "    # Extract the time series data\n",
    "    time_series = data.get('results', [])\n",
    "    \n",
    "    # Check if time_series is empty or not\n",
    "    if not time_series:\n",
    "        print(\"No data available.\")\n",
    "        return\n",
    "\n",
    "    # Convert the list of dictionaries to a pandas DataFrame\n",
    "    df = pd.DataFrame(time_series)\n",
    "    \n",
    "    # convert 't' (timestamp) to datetime and rename it to 'Date'\n",
    "    df['Date'] = pd.to_datetime(df['t'], unit='ms')\n",
    "    df.set_index('Date', inplace=True)\n",
    "    \n",
    "    # drop the timestamp column 't'\n",
    "    df.drop(columns=['t'], inplace=True)\n",
    "    \n",
    "    # rename columns for clarity\n",
    "    df.rename(columns={\n",
    "        'o': 'Open',\n",
    "        'h': 'High',\n",
    "        'l': 'Low',\n",
    "        'c': 'Close',\n",
    "        'v': 'Volume'\n",
    "    }, inplace=True)\n",
    "    print(df)\n",
    "    \n",
    "\n",
    "    path = f'../data/raw/rides_{start_date}-{end_date}.parquet'\n",
    "    df.to_parquet(path, index=True)\n",
    "\n",
    "# Example usage\n",
    "dowload_one_file_of_raw_data(symbol='AAPL', start_date='2022-08-03', end_date='2024-08-03') \n",
    "\n"
   ]
  },
  {
   "cell_type": "code",
   "execution_count": null,
   "metadata": {},
   "outputs": [],
   "source": []
  },
  {
   "cell_type": "code",
   "execution_count": null,
   "metadata": {},
   "outputs": [],
   "source": [
    "# VALIDATION STEP"
   ]
  }
 ],
 "metadata": {
  "kernelspec": {
   "display_name": "Python (venv)",
   "language": "python",
   "name": "venv"
  },
  "language_info": {
   "codemirror_mode": {
    "name": "ipython",
    "version": 3
   },
   "file_extension": ".py",
   "mimetype": "text/x-python",
   "name": "python",
   "nbconvert_exporter": "python",
   "pygments_lexer": "ipython3",
   "version": "3.12.4"
  }
 },
 "nbformat": 4,
 "nbformat_minor": 2
}
